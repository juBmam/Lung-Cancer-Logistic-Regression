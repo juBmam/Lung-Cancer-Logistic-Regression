{
 "cells": [
  {
   "cell_type": "code",
   "execution_count": 1,
   "metadata": {},
   "outputs": [],
   "source": [
    "import pandas as pd\n",
    "import numpy as np\n",
    "import psycopg2 as pg\n",
    "import flask\n",
    "\n",
    "\n",
    "from sklearn.model_selection import train_test_split\n",
    "from sklearn.linear_model import LogisticRegression"
   ]
  },
  {
   "cell_type": "code",
   "execution_count": 2,
   "metadata": {},
   "outputs": [],
   "source": [
    "connection_args = {\n",
    "    'host': 'localhost', \n",
    "    'dbname': 'jubmam',    \n",
    "    'port': 5432          \n",
    "}\n",
    "\n",
    "connection = pg.connect(**connection_args)\n",
    "\n",
    "query = \"SELECT * FROM cancerdata;\"\n",
    "\n",
    "df = pd.read_sql(query, connection)"
   ]
  },
  {
   "cell_type": "code",
   "execution_count": 3,
   "metadata": {},
   "outputs": [],
   "source": [
    "def dummylevel(level):\n",
    "    if level == 'High':\n",
    "        return 2\n",
    "    elif level == 'Medium':\n",
    "        return 1\n",
    "    else:\n",
    "        return 0\n",
    "    \n",
    "X = df[['Balanced_Diet', 'Obesity', 'Passive_Smoker', 'Coughing_of_Blood']]\n",
    "y = df['Level']\n",
    "y = y.apply(dummylevel)"
   ]
  },
  {
   "cell_type": "code",
   "execution_count": 4,
   "metadata": {},
   "outputs": [
    {
     "name": "stderr",
     "output_type": "stream",
     "text": [
      "/Users/jubmam/opt/anaconda3/lib/python3.8/site-packages/sklearn/linear_model/_logistic.py:762: ConvergenceWarning: lbfgs failed to converge (status=1):\n",
      "STOP: TOTAL NO. of ITERATIONS REACHED LIMIT.\n",
      "\n",
      "Increase the number of iterations (max_iter) or scale the data as shown in:\n",
      "    https://scikit-learn.org/stable/modules/preprocessing.html\n",
      "Please also refer to the documentation for alternative solver options:\n",
      "    https://scikit-learn.org/stable/modules/linear_model.html#logistic-regression\n",
      "  n_iter_i = _check_optimize_result(\n"
     ]
    },
    {
     "data": {
      "text/plain": [
       "LogisticRegression(C=0.95)"
      ]
     },
     "execution_count": 4,
     "metadata": {},
     "output_type": "execute_result"
    }
   ],
   "source": [
    "X_train, X_test, y_train, y_test = train_test_split(X, y, test_size= 0.2, random_state= 30)\n",
    "logit = LogisticRegression(C = 0.95)\n",
    "logit.fit(X_train, y_train)\n"
   ]
  },
  {
   "cell_type": "code",
   "execution_count": null,
   "metadata": {},
   "outputs": [
    {
     "name": "stdout",
     "output_type": "stream",
     "text": [
      " * Serving Flask app \"__main__\" (lazy loading)\n",
      " * Environment: production\n",
      "\u001b[31m   WARNING: This is a development server. Do not use it in a production deployment.\u001b[0m\n",
      "\u001b[2m   Use a production WSGI server instead.\u001b[0m\n",
      " * Debug mode: off\n"
     ]
    },
    {
     "name": "stderr",
     "output_type": "stream",
     "text": [
      " * Running on http://127.0.0.1:5000/ (Press CTRL+C to quit)\n",
      "127.0.0.1 - - [28/Oct/2020 03:14:29] \"\u001b[37mGET /predict?Balanced+Diet+%281-7%29=4&Obesity+Level+%281-7%29=4&Blood+Coughing+%281-9%29=4&Exposure+to+Secondhand+Smoke+%281-8%29=4 HTTP/1.1\u001b[0m\" 200 -\n"
     ]
    }
   ],
   "source": [
    "def logmodel():\n",
    "    return [{'Risk':'Med','Value':2}]\n",
    "\n",
    "app = flask.Flask(__name__)\n",
    "\n",
    "@app.route('/')\n",
    "def hello_world():\n",
    "    return flask.render_template('cancerpredictor.html',features=['Balanced Diet (1-7)','Obesity Level (1-7)','Blood Coughing (1-9)', 'Exposure to Secondhand Smoke (1-8)'])\n",
    "\n",
    "@app.route(\"/predict\")\n",
    "def predict():\n",
    "    p = flask.request.args\n",
    "    #pdict = p.to_dict()\n",
    "    #pdict = pd.DataFrame(pdict, index=[0])\n",
    "    log = logmodel()\n",
    "    return flask.render_template('cancerpredictor.html',features=['Balanced Diet (1-7)','Obesity Level (1-7)','Blood Coughing (1-9)', 'Exposure to Secondhand Smoke (1-8)'],prediction=log)\n",
    "\n",
    "if __name__ == '__main__':\n",
    "    app.run()"
   ]
  },
  {
   "cell_type": "code",
   "execution_count": null,
   "metadata": {},
   "outputs": [],
   "source": []
  },
  {
   "cell_type": "code",
   "execution_count": null,
   "metadata": {},
   "outputs": [],
   "source": []
  }
 ],
 "metadata": {
  "kernelspec": {
   "display_name": "Python 3",
   "language": "python",
   "name": "python3"
  },
  "language_info": {
   "codemirror_mode": {
    "name": "ipython",
    "version": 3
   },
   "file_extension": ".py",
   "mimetype": "text/x-python",
   "name": "python",
   "nbconvert_exporter": "python",
   "pygments_lexer": "ipython3",
   "version": "3.8.5"
  }
 },
 "nbformat": 4,
 "nbformat_minor": 4
}
