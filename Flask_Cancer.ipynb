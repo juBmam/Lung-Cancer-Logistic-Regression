{
 "cells": [
  {
   "cell_type": "code",
   "execution_count": 1,
   "metadata": {},
   "outputs": [],
   "source": [
    "import flask\n",
    "import pickle\n",
    "from sklearn.linear_model import LogisticRegression\n",
    "import numpy as np\n",
    "import pandas as pd"
   ]
  },
  {
   "cell_type": "code",
   "execution_count": 2,
   "metadata": {},
   "outputs": [
    {
     "name": "stderr",
     "output_type": "stream",
     "text": [
      "/Users/jubmam/opt/anaconda3/lib/python3.8/site-packages/sklearn/linear_model/_logistic.py:762: ConvergenceWarning: lbfgs failed to converge (status=1):\n",
      "STOP: TOTAL NO. of ITERATIONS REACHED LIMIT.\n",
      "\n",
      "Increase the number of iterations (max_iter) or scale the data as shown in:\n",
      "    https://scikit-learn.org/stable/modules/preprocessing.html\n",
      "Please also refer to the documentation for alternative solver options:\n",
      "    https://scikit-learn.org/stable/modules/linear_model.html#logistic-regression\n",
      "  n_iter_i = _check_optimize_result(\n"
     ]
    }
   ],
   "source": [
    "cancer = pd.read_csv(\"cancerdata.csv\")\n",
    "\n",
    "X = cancer[['Obesity', 'Coughing of Blood', 'Passive Smoker',  'Dust Allergy', 'Alcohol use', 'Genetic Risk']]\n",
    "y = cancer.iloc[:,24]\n",
    "\n",
    "PREDICTOR = LogisticRegression(C = 0.95).fit(X, y)"
   ]
  },
  {
   "cell_type": "code",
   "execution_count": 3,
   "metadata": {},
   "outputs": [],
   "source": [
    "#with open('log.pickle','rb') as read_file:\n",
    "    #PREDICTOR = pickle.load(read_file)"
   ]
  },
  {
   "cell_type": "code",
   "execution_count": 4,
   "metadata": {},
   "outputs": [],
   "source": [
    "app = flask.Flask(__name__)\n",
    "\n",
    "\n",
    "@app.route(\"/\")\n",
    "def viz_page():\n",
    "\n",
    "    with open(\"cancer.html\", 'r') as viz_file:\n",
    "        return viz_file.read()"
   ]
  },
  {
   "cell_type": "code",
   "execution_count": 5,
   "metadata": {},
   "outputs": [],
   "source": [
    "@app.route(\"/score\", methods=[\"POST\"])\n",
    "def score():\n",
    "\n",
    "    data = flask.request.json\n",
    "    x = np.matrix(data[\"example\"])\n",
    "    score = PREDICTOR.predict(x)\n",
    "    print(score)\n",
    "    results = {\"score\": score[0]}\n",
    "    return flask.jsonify(results)"
   ]
  },
  {
   "cell_type": "code",
   "execution_count": null,
   "metadata": {},
   "outputs": [
    {
     "name": "stdout",
     "output_type": "stream",
     "text": [
      " * Serving Flask app \"__main__\" (lazy loading)\n",
      " * Environment: production\n",
      "\u001b[31m   WARNING: This is a development server. Do not use it in a production deployment.\u001b[0m\n",
      "\u001b[2m   Use a production WSGI server instead.\u001b[0m\n",
      " * Debug mode: off\n"
     ]
    },
    {
     "name": "stderr",
     "output_type": "stream",
     "text": [
      " * Running on http://127.0.0.1:5000/ (Press CTRL+C to quit)\n",
      "127.0.0.1 - - [29/Oct/2020 23:36:50] \"\u001b[37mGET / HTTP/1.1\u001b[0m\" 200 -\n",
      "127.0.0.1 - - [29/Oct/2020 23:36:51] \"\u001b[37mGET / HTTP/1.1\u001b[0m\" 200 -\n",
      "127.0.0.1 - - [29/Oct/2020 23:36:59] \"\u001b[37mGET / HTTP/1.1\u001b[0m\" 200 -\n",
      "127.0.0.1 - - [29/Oct/2020 23:37:13] \"\u001b[37mGET / HTTP/1.1\u001b[0m\" 200 -\n",
      "127.0.0.1 - - [29/Oct/2020 23:37:21] \"\u001b[37mGET / HTTP/1.1\u001b[0m\" 200 -\n",
      "127.0.0.1 - - [29/Oct/2020 23:37:55] \"\u001b[37mGET / HTTP/1.1\u001b[0m\" 200 -\n",
      "127.0.0.1 - - [29/Oct/2020 23:39:50] \"\u001b[37mPOST /score HTTP/1.1\u001b[0m\" 200 -\n",
      "127.0.0.1 - - [29/Oct/2020 23:39:50] \"\u001b[37mPOST /score HTTP/1.1\u001b[0m\" 200 -\n",
      "127.0.0.1 - - [29/Oct/2020 23:39:50] \"\u001b[37mPOST /score HTTP/1.1\u001b[0m\" 200 -\n",
      "127.0.0.1 - - [29/Oct/2020 23:39:50] \"\u001b[37mPOST /score HTTP/1.1\u001b[0m\" 200 -\n"
     ]
    },
    {
     "name": "stdout",
     "output_type": "stream",
     "text": [
      "['High']\n",
      "['High']\n",
      "['High']\n",
      "['High']\n"
     ]
    },
    {
     "name": "stderr",
     "output_type": "stream",
     "text": [
      "127.0.0.1 - - [29/Oct/2020 23:39:51] \"\u001b[37mPOST /score HTTP/1.1\u001b[0m\" 200 -\n",
      "127.0.0.1 - - [29/Oct/2020 23:39:51] \"\u001b[37mPOST /score HTTP/1.1\u001b[0m\" 200 -\n",
      "127.0.0.1 - - [29/Oct/2020 23:39:51] \"\u001b[37mPOST /score HTTP/1.1\u001b[0m\" 200 -\n"
     ]
    },
    {
     "name": "stdout",
     "output_type": "stream",
     "text": [
      "['High']\n",
      "['High']\n",
      "['High']\n"
     ]
    },
    {
     "name": "stderr",
     "output_type": "stream",
     "text": [
      "127.0.0.1 - - [29/Oct/2020 23:39:51] \"\u001b[37mPOST /score HTTP/1.1\u001b[0m\" 200 -\n",
      "127.0.0.1 - - [29/Oct/2020 23:39:51] \"\u001b[37mPOST /score HTTP/1.1\u001b[0m\" 200 -\n"
     ]
    },
    {
     "name": "stdout",
     "output_type": "stream",
     "text": [
      "['High']\n",
      "['High']\n"
     ]
    },
    {
     "name": "stderr",
     "output_type": "stream",
     "text": [
      "127.0.0.1 - - [29/Oct/2020 23:39:51] \"\u001b[37mPOST /score HTTP/1.1\u001b[0m\" 200 -\n",
      "127.0.0.1 - - [29/Oct/2020 23:39:51] \"\u001b[37mPOST /score HTTP/1.1\u001b[0m\" 200 -\n"
     ]
    },
    {
     "name": "stdout",
     "output_type": "stream",
     "text": [
      "['High']\n",
      "['Low']\n"
     ]
    },
    {
     "name": "stderr",
     "output_type": "stream",
     "text": [
      "127.0.0.1 - - [29/Oct/2020 23:39:52] \"\u001b[37mPOST /score HTTP/1.1\u001b[0m\" 200 -\n",
      "127.0.0.1 - - [29/Oct/2020 23:39:52] \"\u001b[37mPOST /score HTTP/1.1\u001b[0m\" 200 -\n",
      "127.0.0.1 - - [29/Oct/2020 23:39:52] \"\u001b[37mPOST /score HTTP/1.1\u001b[0m\" 200 -\n",
      "127.0.0.1 - - [29/Oct/2020 23:39:52] \"\u001b[37mPOST /score HTTP/1.1\u001b[0m\" 200 -\n"
     ]
    },
    {
     "name": "stdout",
     "output_type": "stream",
     "text": [
      "['High']\n",
      "['High']\n",
      "['High']\n",
      "['High']\n"
     ]
    },
    {
     "name": "stderr",
     "output_type": "stream",
     "text": [
      "127.0.0.1 - - [29/Oct/2020 23:39:52] \"\u001b[37mPOST /score HTTP/1.1\u001b[0m\" 200 -\n",
      "127.0.0.1 - - [29/Oct/2020 23:39:52] \"\u001b[37mPOST /score HTTP/1.1\u001b[0m\" 200 -\n",
      "127.0.0.1 - - [29/Oct/2020 23:39:52] \"\u001b[37mPOST /score HTTP/1.1\u001b[0m\" 200 -\n"
     ]
    },
    {
     "name": "stdout",
     "output_type": "stream",
     "text": [
      "['High']\n",
      "['High']\n",
      "['High']\n"
     ]
    },
    {
     "name": "stderr",
     "output_type": "stream",
     "text": [
      "127.0.0.1 - - [29/Oct/2020 23:39:52] \"\u001b[37mPOST /score HTTP/1.1\u001b[0m\" 200 -\n",
      "127.0.0.1 - - [29/Oct/2020 23:39:52] \"\u001b[37mPOST /score HTTP/1.1\u001b[0m\" 200 -\n",
      "127.0.0.1 - - [29/Oct/2020 23:39:52] \"\u001b[37mPOST /score HTTP/1.1\u001b[0m\" 200 -\n",
      "127.0.0.1 - - [29/Oct/2020 23:39:52] \"\u001b[37mPOST /score HTTP/1.1\u001b[0m\" 200 -\n",
      "127.0.0.1 - - [29/Oct/2020 23:39:52] \"\u001b[37mPOST /score HTTP/1.1\u001b[0m\" 200 -\n",
      "127.0.0.1 - - [29/Oct/2020 23:39:53] \"\u001b[37mPOST /score HTTP/1.1\u001b[0m\" 200 -\n",
      "127.0.0.1 - - [29/Oct/2020 23:39:53] \"\u001b[37mPOST /score HTTP/1.1\u001b[0m\" 200 -\n"
     ]
    },
    {
     "name": "stdout",
     "output_type": "stream",
     "text": [
      "['High']\n",
      "['High']\n",
      "['High']\n",
      "['High']\n",
      "['High']\n",
      "['High']\n",
      "['Low']\n"
     ]
    },
    {
     "name": "stderr",
     "output_type": "stream",
     "text": [
      "127.0.0.1 - - [29/Oct/2020 23:39:53] \"\u001b[37mPOST /score HTTP/1.1\u001b[0m\" 200 -\n",
      "127.0.0.1 - - [29/Oct/2020 23:39:53] \"\u001b[37mPOST /score HTTP/1.1\u001b[0m\" 200 -\n",
      "127.0.0.1 - - [29/Oct/2020 23:39:53] \"\u001b[37mPOST /score HTTP/1.1\u001b[0m\" 200 -\n",
      "127.0.0.1 - - [29/Oct/2020 23:39:53] \"\u001b[37mPOST /score HTTP/1.1\u001b[0m\" 200 -\n"
     ]
    },
    {
     "name": "stdout",
     "output_type": "stream",
     "text": [
      "['High']\n",
      "['High']\n",
      "['High']\n",
      "['High']\n"
     ]
    },
    {
     "name": "stderr",
     "output_type": "stream",
     "text": [
      "127.0.0.1 - - [29/Oct/2020 23:39:54] \"\u001b[37mPOST /score HTTP/1.1\u001b[0m\" 200 -\n",
      "127.0.0.1 - - [29/Oct/2020 23:39:54] \"\u001b[37mPOST /score HTTP/1.1\u001b[0m\" 200 -\n",
      "127.0.0.1 - - [29/Oct/2020 23:39:54] \"\u001b[37mPOST /score HTTP/1.1\u001b[0m\" 200 -\n"
     ]
    },
    {
     "name": "stdout",
     "output_type": "stream",
     "text": [
      "['High']\n",
      "['High']\n",
      "['High']\n"
     ]
    },
    {
     "name": "stderr",
     "output_type": "stream",
     "text": [
      "127.0.0.1 - - [29/Oct/2020 23:39:54] \"\u001b[37mPOST /score HTTP/1.1\u001b[0m\" 200 -\n"
     ]
    },
    {
     "name": "stdout",
     "output_type": "stream",
     "text": [
      "['High']\n"
     ]
    },
    {
     "name": "stderr",
     "output_type": "stream",
     "text": [
      "127.0.0.1 - - [29/Oct/2020 23:39:55] \"\u001b[37mPOST /score HTTP/1.1\u001b[0m\" 200 -\n",
      "127.0.0.1 - - [29/Oct/2020 23:39:55] \"\u001b[37mPOST /score HTTP/1.1\u001b[0m\" 200 -\n",
      "127.0.0.1 - - [29/Oct/2020 23:39:55] \"\u001b[37mPOST /score HTTP/1.1\u001b[0m\" 200 -\n",
      "127.0.0.1 - - [29/Oct/2020 23:39:55] \"\u001b[37mPOST /score HTTP/1.1\u001b[0m\" 200 -\n",
      "127.0.0.1 - - [29/Oct/2020 23:39:55] \"\u001b[37mPOST /score HTTP/1.1\u001b[0m\" 200 -\n"
     ]
    },
    {
     "name": "stdout",
     "output_type": "stream",
     "text": [
      "['High']\n",
      "['High']\n",
      "['High']\n",
      "['High']\n",
      "['High']\n"
     ]
    },
    {
     "name": "stderr",
     "output_type": "stream",
     "text": [
      "127.0.0.1 - - [29/Oct/2020 23:39:55] \"\u001b[37mPOST /score HTTP/1.1\u001b[0m\" 200 -\n"
     ]
    },
    {
     "name": "stdout",
     "output_type": "stream",
     "text": [
      "['Low']\n"
     ]
    },
    {
     "name": "stderr",
     "output_type": "stream",
     "text": [
      "127.0.0.1 - - [29/Oct/2020 23:39:55] \"\u001b[37mPOST /score HTTP/1.1\u001b[0m\" 200 -\n",
      "127.0.0.1 - - [29/Oct/2020 23:39:55] \"\u001b[37mPOST /score HTTP/1.1\u001b[0m\" 200 -\n",
      "127.0.0.1 - - [29/Oct/2020 23:39:55] \"\u001b[37mPOST /score HTTP/1.1\u001b[0m\" 200 -\n"
     ]
    },
    {
     "name": "stdout",
     "output_type": "stream",
     "text": [
      "['High']\n",
      "['High']\n",
      "['High']\n"
     ]
    },
    {
     "name": "stderr",
     "output_type": "stream",
     "text": [
      "127.0.0.1 - - [29/Oct/2020 23:39:56] \"\u001b[37mPOST /score HTTP/1.1\u001b[0m\" 200 -\n"
     ]
    },
    {
     "name": "stdout",
     "output_type": "stream",
     "text": [
      "['High']\n"
     ]
    },
    {
     "name": "stderr",
     "output_type": "stream",
     "text": [
      "127.0.0.1 - - [29/Oct/2020 23:39:56] \"\u001b[37mPOST /score HTTP/1.1\u001b[0m\" 200 -\n",
      "127.0.0.1 - - [29/Oct/2020 23:39:56] \"\u001b[37mPOST /score HTTP/1.1\u001b[0m\" 200 -\n",
      "127.0.0.1 - - [29/Oct/2020 23:39:56] \"\u001b[37mPOST /score HTTP/1.1\u001b[0m\" 200 -\n"
     ]
    },
    {
     "name": "stdout",
     "output_type": "stream",
     "text": [
      "['High']\n",
      "['High']\n",
      "['High']\n"
     ]
    },
    {
     "name": "stderr",
     "output_type": "stream",
     "text": [
      "127.0.0.1 - - [29/Oct/2020 23:39:56] \"\u001b[37mPOST /score HTTP/1.1\u001b[0m\" 200 -\n"
     ]
    },
    {
     "name": "stdout",
     "output_type": "stream",
     "text": [
      "['Low']\n"
     ]
    },
    {
     "name": "stderr",
     "output_type": "stream",
     "text": [
      "127.0.0.1 - - [29/Oct/2020 23:39:57] \"\u001b[37mPOST /score HTTP/1.1\u001b[0m\" 200 -\n"
     ]
    },
    {
     "name": "stdout",
     "output_type": "stream",
     "text": [
      "['High']\n"
     ]
    },
    {
     "name": "stderr",
     "output_type": "stream",
     "text": [
      "127.0.0.1 - - [29/Oct/2020 23:39:57] \"\u001b[37mPOST /score HTTP/1.1\u001b[0m\" 200 -\n"
     ]
    },
    {
     "name": "stdout",
     "output_type": "stream",
     "text": [
      "['High']\n"
     ]
    },
    {
     "name": "stderr",
     "output_type": "stream",
     "text": [
      "127.0.0.1 - - [29/Oct/2020 23:39:58] \"\u001b[37mGET / HTTP/1.1\u001b[0m\" 200 -\n",
      "127.0.0.1 - - [29/Oct/2020 23:40:00] \"\u001b[37mPOST /score HTTP/1.1\u001b[0m\" 200 -\n",
      "127.0.0.1 - - [29/Oct/2020 23:40:00] \"\u001b[37mPOST /score HTTP/1.1\u001b[0m\" 200 -\n",
      "127.0.0.1 - - [29/Oct/2020 23:40:00] \"\u001b[37mPOST /score HTTP/1.1\u001b[0m\" 200 -\n"
     ]
    },
    {
     "name": "stdout",
     "output_type": "stream",
     "text": [
      "['High']\n",
      "['High']\n",
      "['High']\n"
     ]
    },
    {
     "name": "stderr",
     "output_type": "stream",
     "text": [
      "127.0.0.1 - - [29/Oct/2020 23:40:00] \"\u001b[37mPOST /score HTTP/1.1\u001b[0m\" 200 -\n"
     ]
    },
    {
     "name": "stdout",
     "output_type": "stream",
     "text": [
      "['High']\n"
     ]
    },
    {
     "name": "stderr",
     "output_type": "stream",
     "text": [
      "127.0.0.1 - - [29/Oct/2020 23:40:00] \"\u001b[37mPOST /score HTTP/1.1\u001b[0m\" 200 -\n",
      "127.0.0.1 - - [29/Oct/2020 23:40:00] \"\u001b[37mPOST /score HTTP/1.1\u001b[0m\" 200 -\n",
      "127.0.0.1 - - [29/Oct/2020 23:40:00] \"\u001b[37mPOST /score HTTP/1.1\u001b[0m\" 200 -\n",
      "127.0.0.1 - - [29/Oct/2020 23:40:00] \"\u001b[37mPOST /score HTTP/1.1\u001b[0m\" 200 -\n"
     ]
    },
    {
     "name": "stdout",
     "output_type": "stream",
     "text": [
      "['High']\n",
      "['High']\n",
      "['High']\n",
      "['Medium']\n"
     ]
    },
    {
     "name": "stderr",
     "output_type": "stream",
     "text": [
      "127.0.0.1 - - [29/Oct/2020 23:40:00] \"\u001b[37mPOST /score HTTP/1.1\u001b[0m\" 200 -\n",
      "127.0.0.1 - - [29/Oct/2020 23:40:01] \"\u001b[37mPOST /score HTTP/1.1\u001b[0m\" 200 -\n"
     ]
    },
    {
     "name": "stdout",
     "output_type": "stream",
     "text": [
      "['Medium']\n",
      "['Medium']\n"
     ]
    },
    {
     "name": "stderr",
     "output_type": "stream",
     "text": [
      "127.0.0.1 - - [29/Oct/2020 23:40:01] \"\u001b[37mPOST /score HTTP/1.1\u001b[0m\" 200 -\n"
     ]
    },
    {
     "name": "stdout",
     "output_type": "stream",
     "text": [
      "['Medium']\n"
     ]
    },
    {
     "name": "stderr",
     "output_type": "stream",
     "text": [
      "127.0.0.1 - - [29/Oct/2020 23:40:01] \"\u001b[37mPOST /score HTTP/1.1\u001b[0m\" 200 -\n",
      "127.0.0.1 - - [29/Oct/2020 23:40:01] \"\u001b[37mPOST /score HTTP/1.1\u001b[0m\" 200 -\n",
      "127.0.0.1 - - [29/Oct/2020 23:40:01] \"\u001b[37mPOST /score HTTP/1.1\u001b[0m\" 200 -\n",
      "127.0.0.1 - - [29/Oct/2020 23:40:01] \"\u001b[37mPOST /score HTTP/1.1\u001b[0m\" 200 -\n",
      "127.0.0.1 - - [29/Oct/2020 23:40:01] \"\u001b[37mPOST /score HTTP/1.1\u001b[0m\" 200 -\n"
     ]
    },
    {
     "name": "stdout",
     "output_type": "stream",
     "text": [
      "['Medium']\n",
      "['Medium']\n",
      "['Medium']\n",
      "['High']\n",
      "['High']\n"
     ]
    },
    {
     "name": "stderr",
     "output_type": "stream",
     "text": [
      "127.0.0.1 - - [29/Oct/2020 23:40:01] \"\u001b[37mPOST /score HTTP/1.1\u001b[0m\" 200 -\n",
      "127.0.0.1 - - [29/Oct/2020 23:40:01] \"\u001b[37mPOST /score HTTP/1.1\u001b[0m\" 200 -\n"
     ]
    },
    {
     "name": "stdout",
     "output_type": "stream",
     "text": [
      "['High']\n",
      "['High']\n"
     ]
    },
    {
     "name": "stderr",
     "output_type": "stream",
     "text": [
      "127.0.0.1 - - [29/Oct/2020 23:40:02] \"\u001b[37mPOST /score HTTP/1.1\u001b[0m\" 200 -\n",
      "127.0.0.1 - - [29/Oct/2020 23:40:02] \"\u001b[37mPOST /score HTTP/1.1\u001b[0m\" 200 -\n",
      "127.0.0.1 - - [29/Oct/2020 23:40:02] \"\u001b[37mPOST /score HTTP/1.1\u001b[0m\" 200 -\n"
     ]
    },
    {
     "name": "stdout",
     "output_type": "stream",
     "text": [
      "['High']\n",
      "['High']\n",
      "['High']\n"
     ]
    },
    {
     "name": "stderr",
     "output_type": "stream",
     "text": [
      "127.0.0.1 - - [29/Oct/2020 23:40:02] \"\u001b[37mPOST /score HTTP/1.1\u001b[0m\" 200 -\n"
     ]
    },
    {
     "name": "stdout",
     "output_type": "stream",
     "text": [
      "['Medium']\n"
     ]
    },
    {
     "name": "stderr",
     "output_type": "stream",
     "text": [
      "127.0.0.1 - - [29/Oct/2020 23:40:03] \"\u001b[37mPOST /score HTTP/1.1\u001b[0m\" 200 -\n",
      "127.0.0.1 - - [29/Oct/2020 23:40:03] \"\u001b[37mPOST /score HTTP/1.1\u001b[0m\" 200 -\n",
      "127.0.0.1 - - [29/Oct/2020 23:40:03] \"\u001b[37mPOST /score HTTP/1.1\u001b[0m\" 200 -\n",
      "127.0.0.1 - - [29/Oct/2020 23:40:03] \"\u001b[37mPOST /score HTTP/1.1\u001b[0m\" 200 -\n"
     ]
    },
    {
     "name": "stdout",
     "output_type": "stream",
     "text": [
      "['Medium']\n",
      "['Medium']\n",
      "['Medium']\n",
      "['Medium']\n"
     ]
    },
    {
     "name": "stderr",
     "output_type": "stream",
     "text": [
      "127.0.0.1 - - [29/Oct/2020 23:40:03] \"\u001b[37mPOST /score HTTP/1.1\u001b[0m\" 200 -\n",
      "127.0.0.1 - - [29/Oct/2020 23:40:03] \"\u001b[37mPOST /score HTTP/1.1\u001b[0m\" 200 -\n",
      "127.0.0.1 - - [29/Oct/2020 23:40:03] \"\u001b[37mPOST /score HTTP/1.1\u001b[0m\" 200 -\n",
      "127.0.0.1 - - [29/Oct/2020 23:40:03] \"\u001b[37mPOST /score HTTP/1.1\u001b[0m\" 200 -\n",
      "127.0.0.1 - - [29/Oct/2020 23:40:03] \"\u001b[37mPOST /score HTTP/1.1\u001b[0m\" 200 -\n"
     ]
    },
    {
     "name": "stdout",
     "output_type": "stream",
     "text": [
      "['Medium']\n",
      "['Medium']\n",
      "['Medium']\n",
      "['Medium']\n",
      "['High']\n"
     ]
    },
    {
     "name": "stderr",
     "output_type": "stream",
     "text": [
      "127.0.0.1 - - [29/Oct/2020 23:40:04] \"\u001b[37mPOST /score HTTP/1.1\u001b[0m\" 200 -\n",
      "127.0.0.1 - - [29/Oct/2020 23:40:04] \"\u001b[37mPOST /score HTTP/1.1\u001b[0m\" 200 -\n"
     ]
    },
    {
     "name": "stdout",
     "output_type": "stream",
     "text": [
      "['High']\n",
      "['High']\n"
     ]
    },
    {
     "name": "stderr",
     "output_type": "stream",
     "text": [
      "127.0.0.1 - - [29/Oct/2020 23:40:04] \"\u001b[37mPOST /score HTTP/1.1\u001b[0m\" 200 -\n",
      "127.0.0.1 - - [29/Oct/2020 23:40:04] \"\u001b[37mPOST /score HTTP/1.1\u001b[0m\" 200 -\n",
      "127.0.0.1 - - [29/Oct/2020 23:40:04] \"\u001b[37mPOST /score HTTP/1.1\u001b[0m\" 200 -\n"
     ]
    },
    {
     "name": "stdout",
     "output_type": "stream",
     "text": [
      "['High']\n",
      "['High']\n",
      "['Medium']\n"
     ]
    },
    {
     "name": "stderr",
     "output_type": "stream",
     "text": [
      "127.0.0.1 - - [29/Oct/2020 23:40:05] \"\u001b[37mPOST /score HTTP/1.1\u001b[0m\" 200 -\n",
      "127.0.0.1 - - [29/Oct/2020 23:40:05] \"\u001b[37mPOST /score HTTP/1.1\u001b[0m\" 200 -\n",
      "127.0.0.1 - - [29/Oct/2020 23:40:05] \"\u001b[37mPOST /score HTTP/1.1\u001b[0m\" 200 -\n"
     ]
    },
    {
     "name": "stdout",
     "output_type": "stream",
     "text": [
      "['Medium']\n",
      "['Medium']\n",
      "['Medium']\n"
     ]
    },
    {
     "name": "stderr",
     "output_type": "stream",
     "text": [
      "127.0.0.1 - - [29/Oct/2020 23:40:06] \"\u001b[37mPOST /score HTTP/1.1\u001b[0m\" 200 -\n",
      "127.0.0.1 - - [29/Oct/2020 23:40:06] \"\u001b[37mPOST /score HTTP/1.1\u001b[0m\" 200 -\n",
      "127.0.0.1 - - [29/Oct/2020 23:40:06] \"\u001b[37mPOST /score HTTP/1.1\u001b[0m\" 200 -\n",
      "127.0.0.1 - - [29/Oct/2020 23:40:06] \"\u001b[37mPOST /score HTTP/1.1\u001b[0m\" 200 -\n"
     ]
    },
    {
     "name": "stdout",
     "output_type": "stream",
     "text": [
      "['Medium']\n",
      "['Medium']\n",
      "['Medium']\n",
      "['High']\n"
     ]
    },
    {
     "name": "stderr",
     "output_type": "stream",
     "text": [
      "127.0.0.1 - - [29/Oct/2020 23:40:06] \"\u001b[37mPOST /score HTTP/1.1\u001b[0m\" 200 -\n"
     ]
    },
    {
     "name": "stdout",
     "output_type": "stream",
     "text": [
      "['High']\n"
     ]
    },
    {
     "name": "stderr",
     "output_type": "stream",
     "text": [
      "127.0.0.1 - - [29/Oct/2020 23:40:06] \"\u001b[37mPOST /score HTTP/1.1\u001b[0m\" 200 -\n"
     ]
    },
    {
     "name": "stdout",
     "output_type": "stream",
     "text": [
      "['High']\n"
     ]
    },
    {
     "name": "stderr",
     "output_type": "stream",
     "text": [
      "127.0.0.1 - - [29/Oct/2020 23:40:06] \"\u001b[37mPOST /score HTTP/1.1\u001b[0m\" 200 -\n",
      "127.0.0.1 - - [29/Oct/2020 23:40:06] \"\u001b[37mPOST /score HTTP/1.1\u001b[0m\" 200 -\n",
      "127.0.0.1 - - [29/Oct/2020 23:40:07] \"\u001b[37mPOST /score HTTP/1.1\u001b[0m\" 200 -\n"
     ]
    },
    {
     "name": "stdout",
     "output_type": "stream",
     "text": [
      "['High']\n",
      "['High']\n",
      "['Medium']\n"
     ]
    },
    {
     "name": "stderr",
     "output_type": "stream",
     "text": [
      "127.0.0.1 - - [29/Oct/2020 23:40:08] \"\u001b[37mPOST /score HTTP/1.1\u001b[0m\" 200 -\n",
      "127.0.0.1 - - [29/Oct/2020 23:40:08] \"\u001b[37mPOST /score HTTP/1.1\u001b[0m\" 200 -\n",
      "127.0.0.1 - - [29/Oct/2020 23:40:08] \"\u001b[37mPOST /score HTTP/1.1\u001b[0m\" 200 -\n"
     ]
    },
    {
     "name": "stdout",
     "output_type": "stream",
     "text": [
      "['Low']\n",
      "['Low']\n",
      "['Low']\n"
     ]
    },
    {
     "name": "stderr",
     "output_type": "stream",
     "text": [
      "127.0.0.1 - - [29/Oct/2020 23:40:08] \"\u001b[37mPOST /score HTTP/1.1\u001b[0m\" 200 -\n",
      "127.0.0.1 - - [29/Oct/2020 23:40:08] \"\u001b[37mPOST /score HTTP/1.1\u001b[0m\" 200 -\n",
      "127.0.0.1 - - [29/Oct/2020 23:40:08] \"\u001b[37mPOST /score HTTP/1.1\u001b[0m\" 200 -\n",
      "127.0.0.1 - - [29/Oct/2020 23:40:08] \"\u001b[37mPOST /score HTTP/1.1\u001b[0m\" 200 -\n",
      "127.0.0.1 - - [29/Oct/2020 23:40:08] \"\u001b[37mPOST /score HTTP/1.1\u001b[0m\" 200 -\n"
     ]
    },
    {
     "name": "stdout",
     "output_type": "stream",
     "text": [
      "['Low']\n",
      "['Low']\n",
      "['Medium']\n",
      "['High']\n",
      "['High']\n"
     ]
    },
    {
     "name": "stderr",
     "output_type": "stream",
     "text": [
      "127.0.0.1 - - [29/Oct/2020 23:40:09] \"\u001b[37mPOST /score HTTP/1.1\u001b[0m\" 200 -\n",
      "127.0.0.1 - - [29/Oct/2020 23:40:09] \"\u001b[37mPOST /score HTTP/1.1\u001b[0m\" 200 -\n"
     ]
    },
    {
     "name": "stdout",
     "output_type": "stream",
     "text": [
      "['High']\n",
      "['Medium']\n"
     ]
    },
    {
     "name": "stderr",
     "output_type": "stream",
     "text": [
      "127.0.0.1 - - [29/Oct/2020 23:40:36] \"\u001b[37mGET / HTTP/1.1\u001b[0m\" 200 -\n",
      "127.0.0.1 - - [29/Oct/2020 23:40:37] \"\u001b[37mPOST /score HTTP/1.1\u001b[0m\" 200 -\n",
      "127.0.0.1 - - [29/Oct/2020 23:40:37] \"\u001b[37mPOST /score HTTP/1.1\u001b[0m\" 200 -\n",
      "127.0.0.1 - - [29/Oct/2020 23:40:37] \"\u001b[37mPOST /score HTTP/1.1\u001b[0m\" 200 -\n"
     ]
    },
    {
     "name": "stdout",
     "output_type": "stream",
     "text": [
      "['High']\n",
      "['High']\n",
      "['High']\n"
     ]
    },
    {
     "name": "stderr",
     "output_type": "stream",
     "text": [
      "127.0.0.1 - - [29/Oct/2020 23:40:37] \"\u001b[37mPOST /score HTTP/1.1\u001b[0m\" 200 -\n"
     ]
    },
    {
     "name": "stdout",
     "output_type": "stream",
     "text": [
      "['High']\n"
     ]
    },
    {
     "name": "stderr",
     "output_type": "stream",
     "text": [
      "127.0.0.1 - - [29/Oct/2020 23:40:38] \"\u001b[37mPOST /score HTTP/1.1\u001b[0m\" 200 -\n",
      "127.0.0.1 - - [29/Oct/2020 23:40:38] \"\u001b[37mPOST /score HTTP/1.1\u001b[0m\" 200 -\n",
      "127.0.0.1 - - [29/Oct/2020 23:40:38] \"\u001b[37mPOST /score HTTP/1.1\u001b[0m\" 200 -\n",
      "127.0.0.1 - - [29/Oct/2020 23:40:38] \"\u001b[37mPOST /score HTTP/1.1\u001b[0m\" 200 -\n",
      "127.0.0.1 - - [29/Oct/2020 23:40:38] \"\u001b[37mPOST /score HTTP/1.1\u001b[0m\" 200 -\n"
     ]
    },
    {
     "name": "stdout",
     "output_type": "stream",
     "text": [
      "['High']\n",
      "['High']\n",
      "['High']\n",
      "['Medium']\n",
      "['Medium']\n"
     ]
    },
    {
     "name": "stderr",
     "output_type": "stream",
     "text": [
      "127.0.0.1 - - [29/Oct/2020 23:40:38] \"\u001b[37mPOST /score HTTP/1.1\u001b[0m\" 200 -\n"
     ]
    },
    {
     "name": "stdout",
     "output_type": "stream",
     "text": [
      "['Medium']\n"
     ]
    },
    {
     "name": "stderr",
     "output_type": "stream",
     "text": [
      "127.0.0.1 - - [29/Oct/2020 23:40:39] \"\u001b[37mPOST /score HTTP/1.1\u001b[0m\" 200 -\n",
      "127.0.0.1 - - [29/Oct/2020 23:40:39] \"\u001b[37mPOST /score HTTP/1.1\u001b[0m\" 200 -\n",
      "127.0.0.1 - - [29/Oct/2020 23:40:39] \"\u001b[37mPOST /score HTTP/1.1\u001b[0m\" 200 -\n"
     ]
    },
    {
     "name": "stdout",
     "output_type": "stream",
     "text": [
      "['Medium']\n",
      "['Medium']\n",
      "['High']\n"
     ]
    }
   ],
   "source": [
    "if __name__ == '__main__':\n",
    "    app.run()"
   ]
  },
  {
   "cell_type": "code",
   "execution_count": null,
   "metadata": {},
   "outputs": [],
   "source": []
  },
  {
   "cell_type": "code",
   "execution_count": null,
   "metadata": {},
   "outputs": [],
   "source": []
  }
 ],
 "metadata": {
  "kernelspec": {
   "display_name": "Python 3",
   "language": "python",
   "name": "python3"
  },
  "language_info": {
   "codemirror_mode": {
    "name": "ipython",
    "version": 3
   },
   "file_extension": ".py",
   "mimetype": "text/x-python",
   "name": "python",
   "nbconvert_exporter": "python",
   "pygments_lexer": "ipython3",
   "version": "3.8.5"
  }
 },
 "nbformat": 4,
 "nbformat_minor": 4
}
